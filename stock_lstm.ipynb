{
 "cells": [
  {
   "cell_type": "code",
   "execution_count": 2,
   "id": "18be6b68",
   "metadata": {},
   "outputs": [
    {
     "name": "stderr",
     "output_type": "stream",
     "text": [
      "/var/folders/0h/2xx1qtq90mb55c65vg8njg4m0000gn/T/ipykernel_7065/4089751435.py:13: FutureWarning: YF.download() has changed argument auto_adjust default to True\n",
      "  data = yf.download(ticker, start=start_date, end=end_date)\n",
      "[*********************100%***********************]  1 of 1 completed"
     ]
    },
    {
     "name": "stdout",
     "output_type": "stream",
     "text": [
      "Epoch 1/10\n"
     ]
    },
    {
     "name": "stderr",
     "output_type": "stream",
     "text": [
      "\n",
      "/Library/Frameworks/Python.framework/Versions/3.12/lib/python3.12/site-packages/keras/src/layers/rnn/rnn.py:199: UserWarning: Do not pass an `input_shape`/`input_dim` argument to a layer. When using Sequential models, prefer using an `Input(shape)` object as the first layer in the model instead.\n",
      "  super().__init__(**kwargs)\n"
     ]
    },
    {
     "name": "stdout",
     "output_type": "stream",
     "text": [
      "\u001b[1m77/77\u001b[0m \u001b[32m━━━━━━━━━━━━━━━━━━━━\u001b[0m\u001b[37m\u001b[0m \u001b[1m1s\u001b[0m 8ms/step - loss: 0.0322\n",
      "Epoch 2/10\n",
      "\u001b[1m77/77\u001b[0m \u001b[32m━━━━━━━━━━━━━━━━━━━━\u001b[0m\u001b[37m\u001b[0m \u001b[1m0s\u001b[0m 6ms/step - loss: 3.3250e-04\n",
      "Epoch 3/10\n",
      "\u001b[1m77/77\u001b[0m \u001b[32m━━━━━━━━━━━━━━━━━━━━\u001b[0m\u001b[37m\u001b[0m \u001b[1m1s\u001b[0m 7ms/step - loss: 3.2025e-04\n",
      "Epoch 4/10\n",
      "\u001b[1m77/77\u001b[0m \u001b[32m━━━━━━━━━━━━━━━━━━━━\u001b[0m\u001b[37m\u001b[0m \u001b[1m1s\u001b[0m 6ms/step - loss: 3.1158e-04\n",
      "Epoch 5/10\n",
      "\u001b[1m77/77\u001b[0m \u001b[32m━━━━━━━━━━━━━━━━━━━━\u001b[0m\u001b[37m\u001b[0m \u001b[1m1s\u001b[0m 7ms/step - loss: 2.8556e-04\n",
      "Epoch 6/10\n",
      "\u001b[1m77/77\u001b[0m \u001b[32m━━━━━━━━━━━━━━━━━━━━\u001b[0m\u001b[37m\u001b[0m \u001b[1m1s\u001b[0m 7ms/step - loss: 3.0381e-04\n",
      "Epoch 7/10\n",
      "\u001b[1m77/77\u001b[0m \u001b[32m━━━━━━━━━━━━━━━━━━━━\u001b[0m\u001b[37m\u001b[0m \u001b[1m0s\u001b[0m 6ms/step - loss: 2.5880e-04\n",
      "Epoch 8/10\n",
      "\u001b[1m77/77\u001b[0m \u001b[32m━━━━━━━━━━━━━━━━━━━━\u001b[0m\u001b[37m\u001b[0m \u001b[1m0s\u001b[0m 6ms/step - loss: 2.5719e-04\n",
      "Epoch 9/10\n",
      "\u001b[1m77/77\u001b[0m \u001b[32m━━━━━━━━━━━━━━━━━━━━\u001b[0m\u001b[37m\u001b[0m \u001b[1m0s\u001b[0m 6ms/step - loss: 2.3849e-04\n",
      "Epoch 10/10\n",
      "\u001b[1m77/77\u001b[0m \u001b[32m━━━━━━━━━━━━━━━━━━━━\u001b[0m\u001b[37m\u001b[0m \u001b[1m1s\u001b[0m 8ms/step - loss: 2.5341e-04\n"
     ]
    }
   ],
   "source": [
    "import yfinance as yf\n",
    "import pandas as pd\n",
    "import numpy as np\n",
    "import matplotlib.pyplot as plt\n",
    "from sklearn.preprocessing import MinMaxScaler\n",
    "from tensorflow.keras.models import Sequential\n",
    "from tensorflow.keras.layers import LSTM, Dense\n",
    "\n",
    "# 1. Fetch data\n",
    "ticker = 'AAPL'\n",
    "start_date = '2015-01-01'\n",
    "end_date = '2024-12-31'\n",
    "data = yf.download(ticker, start=start_date, end=end_date)\n",
    "data = data[['Close']]\n",
    "\n",
    "# 2. Add indicators\n",
    "data['SMA_20'] = data['Close'].rolling(window=20).mean()\n",
    "data['SMA_50'] = data['Close'].rolling(window=50).mean()\n",
    "\n",
    "# RSI\n",
    "window_length = 14\n",
    "delta = data['Close'].diff()\n",
    "up = delta.clip(lower=0)\n",
    "down = -1 * delta.clip(upper=0)\n",
    "average_gain = up.rolling(window=window_length).mean()\n",
    "average_loss = down.rolling(window=window_length).mean()\n",
    "rs = average_gain / average_loss\n",
    "data['RSI'] = 100 - (100 / (1 + rs))\n",
    "\n",
    "# 3. Normalize close price for LSTM\n",
    "scaler = MinMaxScaler()\n",
    "scaled_data = scaler.fit_transform(data[['Close']].dropna())\n",
    "\n",
    "# 4. Prepare data for LSTM\n",
    "window_size = 60\n",
    "X, y = [], []\n",
    "for i in range(window_size, len(scaled_data)):\n",
    "    X.append(scaled_data[i - window_size:i])\n",
    "    y.append(scaled_data[i])\n",
    "X, y = np.array(X), np.array(y)\n",
    "\n",
    "# 5. Build and train LSTM model\n",
    "model = Sequential()\n",
    "model.add(LSTM(units=50, return_sequences=False, input_shape=(X.shape[1], 1)))\n",
    "model.add(Dense(1))\n",
    "model.compile(optimizer='adam', loss='mean_squared_error')\n",
    "model.fit(X, y, epochs=10, batch_size=32)\n",
    "\n",
    "# 6. Save model in Keras format\n",
    "model.save('lstm_model.keras')\n"
   ]
  },
  {
   "cell_type": "code",
   "execution_count": null,
   "id": "639f36b5",
   "metadata": {},
   "outputs": [],
   "source": []
  }
 ],
 "metadata": {
  "kernelspec": {
   "display_name": "Python 3",
   "language": "python",
   "name": "python3"
  },
  "language_info": {
   "codemirror_mode": {
    "name": "ipython",
    "version": 3
   },
   "file_extension": ".py",
   "mimetype": "text/x-python",
   "name": "python",
   "nbconvert_exporter": "python",
   "pygments_lexer": "ipython3",
   "version": "3.12.4"
  }
 },
 "nbformat": 4,
 "nbformat_minor": 5
}
